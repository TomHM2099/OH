{
  "nbformat": 4,
  "nbformat_minor": 0,
  "metadata": {
    "colab": {
      "provenance": [],
      "collapsed_sections": [
        "oP1j8vR2_jBZ",
        "-fPKaTnlEMAd"
      ],
      "include_colab_link": true
    },
    "kernelspec": {
      "name": "python3",
      "display_name": "Python 3"
    },
    "language_info": {
      "name": "python"
    }
  },
  "cells": [
    {
      "cell_type": "markdown",
      "metadata": {
        "id": "view-in-github",
        "colab_type": "text"
      },
      "source": [
        "<a href=\"https://colab.research.google.com/github/TomHM2099/OH/blob/main/Copia_de_FAyMC_PySCF_OH.ipynb\" target=\"_parent\"><img src=\"https://colab.research.google.com/assets/colab-badge.svg\" alt=\"Open In Colab\"/></a>"
      ]
    },
    {
      "cell_type": "code",
      "source": [
        "# Instalación de la librería\n",
        "%%capture\n",
        "!pip install pyscf"
      ],
      "metadata": {
        "id": "pZ8gN4hI_hjb"
      },
      "execution_count": null,
      "outputs": []
    },
    {
      "cell_type": "code",
      "execution_count": null,
      "metadata": {
        "id": "wnpuPCoR_aF3"
      },
      "outputs": [],
      "source": [
        "# Importación de las librerías\n",
        "# ---\n",
        "from pylab import * # Librerías numpy,scipy y matplotlib\n",
        "import pyscf        # Librería pyscf\n",
        "from pyscf import scf\n",
        "from pyscf import gto"
      ]
    },
    {
      "cell_type": "markdown",
      "source": [
        "# Geometría de la molécula diatómica ${\\rm OH}$\n",
        "\n",
        "|Átomo| X[Å] | Y[Å] | Z[Å] |\n",
        "|-|-|-|-|\n",
        "O|0.0000|0.0000|0.0000|\n",
        "H|0.0000|0.0000|0.96|\n"
      ],
      "metadata": {
        "id": "oP1j8vR2_jBZ"
      }
    },
    {
      "cell_type": "code",
      "source": [],
      "metadata": {
        "id": "5B01gGZA7kID"
      },
      "execution_count": null,
      "outputs": []
    },
    {
      "cell_type": "markdown",
      "source": [],
      "metadata": {
        "id": "0Lc1ZNs57jtK"
      }
    },
    {
      "cell_type": "code",
      "source": [
        "# Definición de la clase mole (molecule)\n",
        "# útil para manipular los parámetros \n",
        "# y atributos de las integrales GTO.\n",
        "OH = pyscf.gto.Mole(atom = \"\"\"\n",
        "    O 0.0000  0.0000 0.0000\n",
        "    H 0.0000  0.0000 0.9600 \n",
        "    \"\"\",basis = \"STO-3G\")\n",
        "OH.spin=1\n",
        "# ¿Qué significa base STO-3G?\n",
        "\n",
        "# Define la molécula con la geometría \n",
        "# y ahora puede calcularse la Energía\n",
        "OH = OH.build()"
      ],
      "metadata": {
        "id": "ian9LX0DAx7x"
      },
      "execution_count": null,
      "outputs": []
    },
    {
      "cell_type": "code",
      "source": [
        "# Define el método de cálculo con la geometría\n",
        "uhf = scf.UHF(OH)\n",
        "# ¿Qué significa RHF?\n",
        "\n",
        "# Ejecuta el método definido y regresa la \n",
        "# Energía convergida.\n",
        "uhf.kernel()"
      ],
      "metadata": {
        "colab": {
          "base_uri": "https://localhost:8080/"
        },
        "id": "O1TLl2OPA7im",
        "outputId": "06643644-0c55-43e4-a56e-5c74649e86bd"
      },
      "execution_count": null,
      "outputs": [
        {
          "output_type": "stream",
          "name": "stdout",
          "text": [
            "converged SCF energy = -74.3614801745294  <S^2> = 0.75306918  2S+1 = 2.0030668\n"
          ]
        },
        {
          "output_type": "execute_result",
          "data": {
            "text/plain": [
              "-74.36148017452939"
            ]
          },
          "metadata": {},
          "execution_count": 16
        }
      ]
    },
    {
      "cell_type": "markdown",
      "source": [
        "# Variación de la geometría"
      ],
      "metadata": {
        "id": "-fPKaTnlEMAd"
      }
    },
    {
      "cell_type": "code",
      "source": [
        "d = 1.0\n",
        "H2 = pyscf.gto.Mole(atom = \"\"\"\n",
        "    O 0.0000  0.0000 0.0000\n",
        "    H 0.0000  0.0000 {0:.4f} \n",
        "    \"\"\".format(d),basis = \"STO-3G\")\n",
        "OH  = OH.build()\n",
        "OH.spin=1\n",
        "uhf = scf.UHF(OH)\n",
        "uhf.kernel()"
      ],
      "metadata": {
        "colab": {
          "base_uri": "https://localhost:8080/"
        },
        "id": "nY-DgulLBGGV",
        "outputId": "763383ff-5f0e-4a00-e859-208eebd8e69e"
      },
      "execution_count": null,
      "outputs": [
        {
          "output_type": "stream",
          "name": "stdout",
          "text": [
            "converged SCF energy = -74.3614801745294  <S^2> = 0.75306918  2S+1 = 2.0030668\n"
          ]
        },
        {
          "output_type": "execute_result",
          "data": {
            "text/plain": [
              "-74.36148017452939"
            ]
          },
          "metadata": {},
          "execution_count": 11
        }
      ]
    },
    {
      "cell_type": "markdown",
      "source": [
        "# Función que devuelve la energía\n"
      ],
      "metadata": {
        "id": "FcjmSiBtErBL"
      }
    },
    {
      "cell_type": "code",
      "source": [
        "def SCFenergia(d=0.9600):\n",
        "  OH = pyscf.gto.Mole(atom = \"\"\"\n",
        "      O 0.0000  0.0000 0.0000\n",
        "      H 0.0000  0.0000 {0:.4f} \n",
        "      \"\"\".format(d),basis = \"STO-3G\")\n",
        "  OH.spin=1\n",
        "  OH = OH.build()\n",
        "  uhf = scf.UHF(OH)\n",
        "  SCFe = uhf.kernel()\n",
        "  return SCFe"
      ],
      "metadata": {
        "id": "2ppgN5p6EH0y"
      },
      "execution_count": null,
      "outputs": []
    },
    {
      "cell_type": "code",
      "source": [
        "# Separación entre átomos de OH\n",
        "d = linspace(0.90,1.3)"
      ],
      "metadata": {
        "id": "nTExXbFgE7N_"
      },
      "execution_count": null,
      "outputs": []
    },
    {
      "cell_type": "code",
      "source": [
        "# Evaluación de la Energía\n",
        "E = list( map(SCFenergia ,d)) "
      ],
      "metadata": {
        "colab": {
          "base_uri": "https://localhost:8080/"
        },
        "id": "ZA3XBhh7FF1z",
        "outputId": "de1ee988-23d1-40f9-9b03-0abf62a65891"
      },
      "execution_count": null,
      "outputs": [
        {
          "output_type": "stream",
          "name": "stdout",
          "text": [
            "converged SCF energy = -74.3477850886363  <S^2> = 0.75225598  2S+1 = 2.0022547\n",
            "converged SCF energy = -74.3503979108668  <S^2> = 0.75234045  2S+1 = 2.0023391\n",
            "converged SCF energy = -74.3527301218829  <S^2> = 0.75243074  2S+1 = 2.0024293\n",
            "converged SCF energy = -74.3548502580414  <S^2> = 0.75252978  2S+1 = 2.0025282\n",
            "converged SCF energy = -74.3567385599524  <S^2> = 0.75263733  2S+1 = 2.0026356\n",
            "converged SCF energy = -74.3583860770235  <S^2> = 0.75275279  2S+1 = 2.0027509\n",
            "converged SCF energy = -74.3598430202416  <S^2> = 0.75288005  2S+1 = 2.002878\n",
            "converged SCF energy = -74.3610828223821  <S^2> = 0.75301712  2S+1 = 2.0030149\n",
            "converged SCF energy = -74.3621448212128  <S^2> = 0.75316869  2S+1 = 2.0031662\n",
            "converged SCF energy = -74.3630209342308  <S^2> = 0.75333463  2S+1 = 2.0033319\n",
            "converged SCF energy = -74.3637117778775  <S^2> = 0.7535143  2S+1 = 2.0035112\n",
            "converged SCF energy = -74.3642420961642  <S^2> = 0.75371405  2S+1 = 2.0037106\n",
            "converged SCF energy = -74.3646097478816  <S^2> = 0.75393398  2S+1 = 2.0039301\n",
            "converged SCF energy = -74.3648202184226  <S^2> = 0.75417351  2S+1 = 2.0041692\n",
            "converged SCF energy = -74.3648855249084  <S^2> = 0.75444144  2S+1 = 2.0044365\n",
            "converged SCF energy = -74.3648105334786  <S^2> = 0.75473453  2S+1 = 2.0047289\n",
            "converged SCF energy = -74.364599718415  <S^2> = 0.75506388  2S+1 = 2.0050575\n",
            "converged SCF energy = -74.3642593155781  <S^2> = 0.75543061  2S+1 = 2.0054233\n",
            "converged SCF energy = -74.3638016545656  <S^2> = 0.75583473  2S+1 = 2.0058262\n",
            "converged SCF energy = -74.3632211266882  <S^2> = 0.7562924  2S+1 = 2.0062825\n",
            "converged SCF energy = -74.3625282044015  <S^2> = 0.75680622  2S+1 = 2.0067947\n",
            "converged SCF energy = -74.3617386586165  <S^2> = 0.75737734  2S+1 = 2.0073638\n",
            "converged SCF energy = -74.3608381766211  <S^2> = 0.75803003  2S+1 = 2.008014\n",
            "converged SCF energy = -74.3598409573243  <S^2> = 0.75876987  2S+1 = 2.0087507\n",
            "converged SCF energy = -74.3587657809417  <S^2> = 0.75960055  2S+1 = 2.0095776\n",
            "converged SCF energy = -74.3575909086148  <S^2> = 0.76055994  2S+1 = 2.0105322\n",
            "converged SCF energy = -74.3563496393838  <S^2> = 0.76164527  2S+1 = 2.0116116\n",
            "converged SCF energy = -74.3550159778089  <S^2> = 0.76290864  2S+1 = 2.0128672\n",
            "converged SCF energy = -74.3536094142506  <S^2> = 0.76436859  2S+1 = 2.0143173\n",
            "converged SCF energy = -74.3521529704977  <S^2> = 0.76604064  2S+1 = 2.0159768\n",
            "converged SCF energy = -74.3506153004689  <S^2> = 0.76801157  2S+1 = 2.0179312\n",
            "converged SCF energy = -74.3490186988854  <S^2> = 0.77031815  2S+1 = 2.020216\n",
            "converged SCF energy = -74.3473884275118  <S^2> = 0.7729908  2S+1 = 2.0228602\n",
            "converged SCF energy = -74.3456891623625  <S^2> = 0.77617862  2S+1 = 2.0260095\n",
            "converged SCF energy = -74.3439459029889  <S^2> = 0.77994748  2S+1 = 2.0297266\n",
            "converged SCF energy = -74.3421860565304  <S^2> = 0.7843523  2S+1 = 2.0340622\n",
            "converged SCF energy = -74.3403719142024  <S^2> = 0.78963074  2S+1 = 2.0392457\n",
            "converged SCF energy = -74.3385537487349  <S^2> = 0.79579352  2S+1 = 2.0452809\n",
            "converged SCF energy = -74.3366931994978  <S^2> = 0.80314455  2S+1 = 2.0524566\n",
            "converged SCF energy = -74.3348195621626  <S^2> = 0.81175254  2S+1 = 2.0608275\n",
            "converged SCF energy = -74.3329630921817  <S^2> = 0.8216108  2S+1 = 2.0703727\n",
            "converged SCF energy = -74.3310853998571  <S^2> = 0.83304342  2S+1 = 2.0813874\n",
            "converged SCF energy = -74.3292169027422  <S^2> = 0.84596332  2S+1 = 2.0937653\n",
            "converged SCF energy = -74.3273873270324  <S^2> = 0.86014425  2S+1 = 2.1072677\n",
            "converged SCF energy = -74.3255581995651  <S^2> = 0.87587401  2S+1 = 2.1221442\n",
            "converged SCF energy = -74.3237800396482  <S^2> = 0.89248451  2S+1 = 2.1377413\n",
            "converged SCF energy = -74.3220141041102  <S^2> = 0.91036952  2S+1 = 2.154409\n",
            "converged SCF energy = -74.320286839648  <S^2> = 0.92904844  2S+1 = 2.1716799\n",
            "converged SCF energy = -74.3186219290828  <S^2> = 0.94798598  2S+1 = 2.1890509\n",
            "converged SCF energy = -74.3169807858168  <S^2> = 0.96761713  2S+1 = 2.2069138\n"
          ]
        }
      ]
    },
    {
      "cell_type": "code",
      "source": [
        "plot(d,E,'o-')\n",
        "xlabel('d [Å]')\n",
        "ylabel('E [Ha]')"
      ],
      "metadata": {
        "colab": {
          "base_uri": "https://localhost:8080/",
          "height": 297
        },
        "id": "Vo7Q6c2qFMLk",
        "outputId": "7105b42c-475c-4239-ccf5-9e652513027d"
      },
      "execution_count": null,
      "outputs": [
        {
          "output_type": "execute_result",
          "data": {
            "text/plain": [
              "Text(0, 0.5, 'E [Ha]')"
            ]
          },
          "metadata": {},
          "execution_count": 33
        },
        {
          "output_type": "display_data",
          "data": {
            "text/plain": [
              "<Figure size 432x288 with 1 Axes>"
            ],
            "image/png": "[encoded data removed]"
          },
          "metadata": {
            "needs_background": "light"
          }
        }
      ]
    },
    {
      "cell_type": "code",
      "source": [],
      "metadata": {
        "id": "xaoL5VL9FWVJ"
      },
      "execution_count": null,
      "outputs": []
    }
  ]
}